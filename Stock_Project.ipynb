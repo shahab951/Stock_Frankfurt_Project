{
 "cells": [
  {
   "cell_type": "code",
   "execution_count": 151,
   "id": "578a5f55",
   "metadata": {},
   "outputs": [],
   "source": [
    "import statistics"
   ]
  },
  {
   "cell_type": "code",
   "execution_count": 2,
   "id": "da27242f",
   "metadata": {},
   "outputs": [],
   "source": [
    "import matplotlib.pyplot as plt\n",
    "import numpy as np\n",
    "import pandas as pd\n",
    "import requests\n",
    "import json\n",
    "url='https://data.nasdaq.com/api/v3/datasets/FSE/AFX_X'\n",
    "r=requests.get(url)\n",
    "json_data=json.loads(r.text)"
   ]
  },
  {
   "cell_type": "code",
   "execution_count": 3,
   "id": "f3ab0eb5",
   "metadata": {},
   "outputs": [
    {
     "name": "stdout",
     "output_type": "stream",
     "text": [
      "<class 'dict'>\n",
      "(1, 22)\n",
      "                                        column_names\n",
      "0  [Date, Open, High, Low, Close, Change, Traded ...\n",
      "<class 'dict'>\n",
      "{0: ['Date', 'Open', 'High', 'Low', 'Close', 'Change', 'Traded Volume', 'Turnover', 'Last Price of the Day', 'Daily Traded Units', 'Daily Turnover']}\n",
      "<class 'dict'>\n",
      "<class 'dict'>\n",
      "{0: 'Stock Prices for Carl Zeiss Meditec (2020-11-02) from the Frankfurt Stock Exchange.<br><br>Trading System: Xetra<br><br>ISIN: DE0005313704'}\n",
      "         Date   Open   High    Low  Close  Change  Traded Volume  Turnover  \\\n",
      "0  2020-12-01  112.2  112.2  111.5  112.0     NaN           51.0    5703.0   \n",
      "1  2020-11-30  111.0  113.6  111.0  112.1     NaN          315.0   35111.5   \n",
      "2  2020-11-27  111.0  111.5  109.5  111.2     NaN          155.0   17168.5   \n",
      "3  2020-11-26  111.3  112.0  110.5  111.6     NaN          254.0   28367.5   \n",
      "4  2020-11-25  111.4  111.4  110.1  110.1     NaN          294.0   32435.8   \n",
      "5  2020-11-24  116.1  116.8  110.5  113.5     NaN         3184.0  361404.4   \n",
      "6  2020-11-23  118.0  118.8  116.3  116.3     NaN         1590.0  187525.0   \n",
      "7  2020-11-20  116.5  118.0  116.5  117.5     NaN          295.0   34736.0   \n",
      "8  2020-11-19  115.6  115.6  115.6  115.6     NaN            0.0       0.0   \n",
      "9  2020-11-18  115.8  115.8  115.0  115.0     NaN           25.0    2875.0   \n",
      "\n",
      "  Last Price of the Day Daily Trade Units  Daily Turnover  \n",
      "0                  None              None             NaN  \n",
      "1                  None              None             NaN  \n",
      "2                  None              None             NaN  \n",
      "3                  None              None             NaN  \n",
      "4                  None              None             NaN  \n",
      "5                  None              None             NaN  \n",
      "6                  None              None             NaN  \n",
      "7                  None              None             NaN  \n",
      "8                  None              None             NaN  \n",
      "9                  None              None             NaN  \n",
      "       Date   Open   High    Low  Close  Change  Traded Volume  Turnover  \\\n",
      "0     False  False  False  False  False    True          False     False   \n",
      "1     False  False  False  False  False    True          False     False   \n",
      "2     False  False  False  False  False    True          False     False   \n",
      "3     False  False  False  False  False    True          False     False   \n",
      "4     False  False  False  False  False    True          False     False   \n",
      "...     ...    ...    ...    ...    ...     ...            ...       ...   \n",
      "5262  False   True   True   True  False    True          False      True   \n",
      "5263  False   True   True   True  False    True          False      True   \n",
      "5264  False   True   True   True  False    True          False      True   \n",
      "5265  False   True   True   True  False    True          False      True   \n",
      "5266  False   True   True   True  False    True          False      True   \n",
      "\n",
      "      Last Price of the Day  Daily Trade Units  Daily Turnover  \n",
      "0                      True               True            True  \n",
      "1                      True               True            True  \n",
      "2                      True               True            True  \n",
      "3                      True               True            True  \n",
      "4                      True               True            True  \n",
      "...                     ...                ...             ...  \n",
      "5262                   True               True           False  \n",
      "5263                   True               True           False  \n",
      "5264                   True               True           False  \n",
      "5265                   True               True           False  \n",
      "5266                   True               True           False  \n",
      "\n",
      "[5267 rows x 11 columns]\n",
      "         Date   Open   High    Low  Close  Change  Traded Volume  Turnover  \\\n",
      "0  2020-12-01  112.2  112.2  111.5  112.0     0.0           51.0    5703.0   \n",
      "1  2020-11-30  111.0  113.6  111.0  112.1     0.0          315.0   35111.5   \n",
      "2  2020-11-27  111.0  111.5  109.5  111.2     0.0          155.0   17168.5   \n",
      "3  2020-11-26  111.3  112.0  110.5  111.6     0.0          254.0   28367.5   \n",
      "4  2020-11-25  111.4  111.4  110.1  110.1     0.0          294.0   32435.8   \n",
      "5  2020-11-24  116.1  116.8  110.5  113.5     0.0         3184.0  361404.4   \n",
      "6  2020-11-23  118.0  118.8  116.3  116.3     0.0         1590.0  187525.0   \n",
      "7  2020-11-20  116.5  118.0  116.5  117.5     0.0          295.0   34736.0   \n",
      "8  2020-11-19  115.6  115.6  115.6  115.6     0.0            0.0       0.0   \n",
      "9  2020-11-18  115.8  115.8  115.0  115.0     0.0           25.0    2875.0   \n",
      "\n",
      "   Last Price of the Day  Daily Trade Units  Daily Turnover  \n",
      "0                      0                  0             0.0  \n",
      "1                      0                  0             0.0  \n",
      "2                      0                  0             0.0  \n",
      "3                      0                  0             0.0  \n",
      "4                      0                  0             0.0  \n",
      "5                      0                  0             0.0  \n",
      "6                      0                  0             0.0  \n",
      "7                      0                  0             0.0  \n",
      "8                      0                  0             0.0  \n",
      "9                      0                  0             0.0  \n",
      "(5267, 11)\n"
     ]
    }
   ],
   "source": [
    "print(type(json_data))\n",
    "df1=pd.DataFrame(json_data)\n",
    "df2=df1.transpose()\n",
    "df2=df2.reset_index()\n",
    "print(df2.shape)\n",
    "print(df2[['column_names']])\n",
    "df2_column_names_dict=df2['column_names'].to_dict()\n",
    "print(type(df2_column_names_dict))\n",
    "print(df2_column_names_dict)\n",
    "df2_data_dict=df2['data'].to_dict()\n",
    "print(type(df2_data_dict))\n",
    "#print(df2_data_dict)\n",
    "df2_description_dict=df2['description'].to_dict()\n",
    "print(type(df2_description_dict))\n",
    "print(df2_description_dict)\n",
    "dict_initial={'Date':[],'Open':[],'High':[],'Low':[],'Close':[],'Change':[],'Traded Volume':[],'Turnover':[],\n",
    "              'Last Price of the Day':[],'Daily Trade Units':[],'Daily Turnover':[]}\n",
    "k=0;\n",
    "for i in dict_initial.keys():\n",
    "    for j in range(5267):\n",
    "        dict_initial[i].append(df2_data_dict[0][j][k])\n",
    "    k=k+1\n",
    "df=pd.DataFrame(dict_initial)\n",
    "print(df.head(10))\n",
    "print(df.isna())\n",
    "df_cleaned=df.fillna(0)\n",
    "#print(type(df_cleaned))\n",
    "#print(df)\n",
    "print(df_cleaned.head(10))\n",
    "print(df_cleaned.shape)"
   ]
  },
  {
   "cell_type": "code",
   "execution_count": 183,
   "id": "ee21b2b4",
   "metadata": {},
   "outputs": [
    {
     "data": {
      "image/png": "[encoded data removed]",
      "text/plain": [
       "<Figure size 432x288 with 1 Axes>"
      ]
     },
     "metadata": {
      "needs_background": "light"
     },
     "output_type": "display_data"
    }
   ],
   "source": [
    "df_limited=df_cleaned[df_cleaned['Date']>'2020-10-20']\n",
    "plt.plot(df_limited['Date'],df_limited['Open'])\n",
    "plt.xticks(df_limited['Date'],rotation='90')\n",
    "plt.xlabel('Date')\n",
    "plt.ylabel('Open Price')\n",
    "plt.show()"
   ]
  },
  {
   "cell_type": "code",
   "execution_count": 184,
   "id": "4e106346",
   "metadata": {},
   "outputs": [
    {
     "data": {
      "image/png": "[encoded data removed]",
      "text/plain": [
       "<Figure size 432x288 with 1 Axes>"
      ]
     },
     "metadata": {
      "needs_background": "light"
     },
     "output_type": "display_data"
    }
   ],
   "source": [
    "plt.hist(df_cleaned['Open'],bins=20)\n",
    "plt.xlabel('Initial price')\n",
    "plt.ylabel('frequency')\n",
    "plt.show()"
   ]
  },
  {
   "cell_type": "code",
   "execution_count": 185,
   "id": "f3864353",
   "metadata": {},
   "outputs": [
    {
     "data": {
      "image/png": "[encoded data removed]",
      "text/plain": [
       "<Figure size 432x288 with 1 Axes>"
      ]
     },
     "metadata": {
      "needs_background": "light"
     },
     "output_type": "display_data"
    }
   ],
   "source": [
    "plt.hist(df_cleaned['High'],bins=20)\n",
    "plt.xlabel('High price')\n",
    "plt.ylabel('frequency')\n",
    "plt.show()"
   ]
  },
  {
   "cell_type": "code",
   "execution_count": 186,
   "id": "c48895b4",
   "metadata": {},
   "outputs": [
    {
     "data": {
      "image/png": "[encoded data removed]",
      "text/plain": [
       "<Figure size 432x288 with 1 Axes>"
      ]
     },
     "metadata": {
      "needs_background": "light"
     },
     "output_type": "display_data"
    }
   ],
   "source": [
    "plt.hist(df_cleaned['Traded Volume'],bins=70)\n",
    "plt.xlabel('Traded Volume')\n",
    "plt.ylabel('frequency')\n",
    "plt.show()"
   ]
  },
  {
   "cell_type": "code",
   "execution_count": 122,
   "id": "d120df3c",
   "metadata": {
    "scrolled": true
   },
   "outputs": [
    {
     "data": {
      "text/html": [
       "<div>\n",
       "<style scoped>\n",
       "    .dataframe tbody tr th:only-of-type {\n",
       "        vertical-align: middle;\n",
       "    }\n",
       "\n",
       "    .dataframe tbody tr th {\n",
       "        vertical-align: top;\n",
       "    }\n",
       "\n",
       "    .dataframe thead th {\n",
       "        text-align: right;\n",
       "    }\n",
       "</style>\n",
       "<table border=\"1\" class=\"dataframe\">\n",
       "  <thead>\n",
       "    <tr style=\"text-align: right;\">\n",
       "      <th></th>\n",
       "      <th>Date</th>\n",
       "      <th>Open</th>\n",
       "      <th>Low</th>\n",
       "      <th>Close</th>\n",
       "      <th>Traded Volume</th>\n",
       "    </tr>\n",
       "  </thead>\n",
       "  <tbody>\n",
       "    <tr>\n",
       "      <th>739</th>\n",
       "      <td>2017-12-11</td>\n",
       "      <td>52.28</td>\n",
       "      <td>51.26</td>\n",
       "      <td>52.14</td>\n",
       "      <td>71817.0</td>\n",
       "    </tr>\n",
       "    <tr>\n",
       "      <th>740</th>\n",
       "      <td>2017-12-08</td>\n",
       "      <td>51.50</td>\n",
       "      <td>51.28</td>\n",
       "      <td>52.12</td>\n",
       "      <td>109157.0</td>\n",
       "    </tr>\n",
       "    <tr>\n",
       "      <th>741</th>\n",
       "      <td>2017-12-07</td>\n",
       "      <td>50.89</td>\n",
       "      <td>50.81</td>\n",
       "      <td>51.47</td>\n",
       "      <td>48123.0</td>\n",
       "    </tr>\n",
       "    <tr>\n",
       "      <th>742</th>\n",
       "      <td>2017-12-06</td>\n",
       "      <td>50.80</td>\n",
       "      <td>50.39</td>\n",
       "      <td>50.89</td>\n",
       "      <td>88730.0</td>\n",
       "    </tr>\n",
       "    <tr>\n",
       "      <th>743</th>\n",
       "      <td>2017-12-05</td>\n",
       "      <td>51.21</td>\n",
       "      <td>50.40</td>\n",
       "      <td>51.25</td>\n",
       "      <td>83023.0</td>\n",
       "    </tr>\n",
       "    <tr>\n",
       "      <th>...</th>\n",
       "      <td>...</td>\n",
       "      <td>...</td>\n",
       "      <td>...</td>\n",
       "      <td>...</td>\n",
       "      <td>...</td>\n",
       "    </tr>\n",
       "    <tr>\n",
       "      <th>977</th>\n",
       "      <td>2017-01-06</td>\n",
       "      <td>34.91</td>\n",
       "      <td>34.91</td>\n",
       "      <td>35.04</td>\n",
       "      <td>27507.0</td>\n",
       "    </tr>\n",
       "    <tr>\n",
       "      <th>978</th>\n",
       "      <td>2017-01-05</td>\n",
       "      <td>35.02</td>\n",
       "      <td>34.73</td>\n",
       "      <td>35.06</td>\n",
       "      <td>48412.0</td>\n",
       "    </tr>\n",
       "    <tr>\n",
       "      <th>979</th>\n",
       "      <td>2017-01-04</td>\n",
       "      <td>35.48</td>\n",
       "      <td>34.75</td>\n",
       "      <td>35.19</td>\n",
       "      <td>54408.0</td>\n",
       "    </tr>\n",
       "    <tr>\n",
       "      <th>980</th>\n",
       "      <td>2017-01-03</td>\n",
       "      <td>35.90</td>\n",
       "      <td>35.34</td>\n",
       "      <td>35.48</td>\n",
       "      <td>70618.0</td>\n",
       "    </tr>\n",
       "    <tr>\n",
       "      <th>981</th>\n",
       "      <td>2017-01-02</td>\n",
       "      <td>34.99</td>\n",
       "      <td>34.99</td>\n",
       "      <td>35.80</td>\n",
       "      <td>44700.0</td>\n",
       "    </tr>\n",
       "  </tbody>\n",
       "</table>\n",
       "<p>243 rows × 5 columns</p>\n",
       "</div>"
      ],
      "text/plain": [
       "           Date   Open    Low  Close  Traded Volume\n",
       "739  2017-12-11  52.28  51.26  52.14        71817.0\n",
       "740  2017-12-08  51.50  51.28  52.12       109157.0\n",
       "741  2017-12-07  50.89  50.81  51.47        48123.0\n",
       "742  2017-12-06  50.80  50.39  50.89        88730.0\n",
       "743  2017-12-05  51.21  50.40  51.25        83023.0\n",
       "..          ...    ...    ...    ...            ...\n",
       "977  2017-01-06  34.91  34.91  35.04        27507.0\n",
       "978  2017-01-05  35.02  34.73  35.06        48412.0\n",
       "979  2017-01-04  35.48  34.75  35.19        54408.0\n",
       "980  2017-01-03  35.90  35.34  35.48        70618.0\n",
       "981  2017-01-02  34.99  34.99  35.80        44700.0\n",
       "\n",
       "[243 rows x 5 columns]"
      ]
     },
     "execution_count": 122,
     "metadata": {},
     "output_type": "execute_result"
    }
   ],
   "source": [
    "#Question #1\n",
    "#print(df_cleaned[(df_cleaned['Date']>'2017-01-01')])\n",
    "df=pd.DataFrame(dict_initial)\n",
    "df_cleaned=df.fillna(0)\n",
    "df_cleaned\n",
    "stock_2017=df_cleaned[['Date','Open','Low','Close','Traded Volume']][(df_cleaned['Date']>'2017-01-01') & (df_cleaned['Date']<'2017-12-12')]\n",
    "stock_2017"
   ]
  },
  {
   "cell_type": "code",
   "execution_count": 89,
   "id": "0d0bfbe4",
   "metadata": {},
   "outputs": [],
   "source": [
    "#Question#2\n",
    "#I already did it in the main body of my program, but the command is here:\n",
    "df1=pd.DataFrame(json_data)"
   ]
  },
  {
   "cell_type": "code",
   "execution_count": 123,
   "id": "06068823",
   "metadata": {},
   "outputs": [
    {
     "name": "stdout",
     "output_type": "stream",
     "text": [
      "(240, 5)\n",
      "Open    52.28\n",
      "dtype: float64\n",
      "Open    34.0\n",
      "dtype: float64\n"
     ]
    }
   ],
   "source": [
    "#Question#3\n",
    "stock2017_nonzero_vales=stock_2017[stock_2017['Open']>0]\n",
    "print(stock2017_nonzero_vales.shape)\n",
    "print(stock2017_nonzero_vales[['Open']].max())\n",
    "print(stock2017_nonzero_vales[['Open']].min())"
   ]
  },
  {
   "cell_type": "code",
   "execution_count": 93,
   "id": "2a484b82",
   "metadata": {},
   "outputs": [
    {
     "data": {
      "text/plain": [
       "14.1"
      ]
     },
     "execution_count": 93,
     "metadata": {},
     "output_type": "execute_result"
    }
   ],
   "source": [
    "#Question#4\n",
    "df=pd.DataFrame(dict_initial)\n",
    "df_cleaned=df.fillna(0)\n",
    "df_cleaned\n",
    "stock_difference_high_low=df_cleaned\n",
    "stock_difference_high_low['Range']=stock_difference_high_low['High']-stock_difference_high_low['Low']\n",
    "round(stock_difference_high_low['Range'].max(),3)"
   ]
  },
  {
   "cell_type": "code",
   "execution_count": 120,
   "id": "d3c22c89",
   "metadata": {},
   "outputs": [
    {
     "name": "stdout",
     "output_type": "stream",
     "text": [
      "38.0\n"
     ]
    }
   ],
   "source": [
    "#Question#5\n",
    "df=pd.DataFrame(dict_initial)\n",
    "df_cleaned=df.fillna(0)\n",
    "df_cleaned\n",
    "stock_difference_close_price=df_cleaned\n",
    "stock_difference_close_price['Range of Close Price']=''\n",
    "for i in range(5266):\n",
    "    #print(stock_difference_close_price.iloc[i+1,4],' ',stock_difference_close_price.iloc[i,4],' ',stock_difference_close_price.iloc[i+1,4]-stock_difference_close_price.iloc[i,4])\n",
    "    stock_difference_close_price.iloc[i,11]=abs(stock_difference_close_price.iloc[i+1,4]-stock_difference_close_price.iloc[i,4])\n",
    "stock_difference_close_price.iloc[5266,11]=stock_difference_close_price.iloc[5266,4]\n",
    "print(stock_difference_close_price['Range of Close Price'].max())"
   ]
  },
  {
   "cell_type": "code",
   "execution_count": 127,
   "id": "983d218e",
   "metadata": {},
   "outputs": [
    {
     "name": "stdout",
     "output_type": "stream",
     "text": [
      "88605.35390946502\n"
     ]
    }
   ],
   "source": [
    "#Question#6\n",
    "print(stock_2017['Traded Volume'].mean())"
   ]
  },
  {
   "cell_type": "code",
   "execution_count": 158,
   "id": "1f43f368",
   "metadata": {},
   "outputs": [
    {
     "name": "stdout",
     "output_type": "stream",
     "text": [
      "74975.0\n"
     ]
    }
   ],
   "source": [
    "#Question#7\n",
    "list_median=[]\n",
    "for i in stock_2017['Traded Volume']:\n",
    "    list_median.append(i)\n",
    "list_median.sort()\n",
    "print(statistics.median(list_median))"
   ]
  },
  {
   "cell_type": "code",
   "execution_count": null,
   "id": "8d39be1c",
   "metadata": {},
   "outputs": [],
   "source": []
  }
 ],
 "metadata": {
  "kernelspec": {
   "display_name": "Python 3 (ipykernel)",
   "language": "python",
   "name": "python3"
  },
  "language_info": {
   "codemirror_mode": {
    "name": "ipython",
    "version": 3
   },
   "file_extension": ".py",
   "mimetype": "text/x-python",
   "name": "python",
   "nbconvert_exporter": "python",
   "pygments_lexer": "ipython3",
   "version": "3.9.7"
  }
 },
 "nbformat": 4,
 "nbformat_minor": 5
}
